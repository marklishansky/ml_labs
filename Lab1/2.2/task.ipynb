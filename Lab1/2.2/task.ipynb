{
 "cells": [
  {
   "cell_type": "code",
   "execution_count": 1,
   "metadata": {},
   "outputs": [],
   "source": [
    "def time_converter(n):\n",
    "    \"\"\"\n",
    "    Определяет время в формате 'hours minutes' по количеству минут, прошедших с начала суток.\n",
    "    \"\"\"\n",
    "    total_minutes_in_a_day = 1440\n",
    "    n = n % total_minutes_in_a_day  # Учитываем полный цикл каждые 1440 минут\n",
    "    hours = n // 60\n",
    "    minutes = n % 60\n",
    "    return f\"{hours} {minutes}\"\n",
    "\n",
    "# Проверка корректности функции с использованием assert\n",
    "assert time_converter(2782) == '22 22'\n",
    "assert time_converter(4733) == '6 53'\n",
    "assert time_converter(1766) == '5 26'\n",
    "assert time_converter(3865) == '16 25'\n",
    "assert time_converter(4628) == '5 8'\n",
    "assert time_converter(4353) == '0 33'\n",
    "assert time_converter(268) == '4 28'\n",
    "assert time_converter(4373) == '0 53'\n",
    "assert time_converter(2722) == '21 22'\n",
    "assert time_converter(1531) == '1 31'"
   ]
  },
  {
   "cell_type": "code",
   "execution_count": 4,
   "metadata": {},
   "outputs": [],
   "source": [
    "def min_of_three_values(a, b, c):\n",
    "    \"\"\"\n",
    "    Возвращает минимум из трех чисел без использования встроенной функции min.\n",
    "    \"\"\"\n",
    "    if a <= b and a <= c:\n",
    "        return a\n",
    "    elif b <= a and b <= c:\n",
    "        return b\n",
    "    else:\n",
    "        return c\n",
    "\n",
    "# Проверка корректности функции с использованием assert\n",
    "assert min_of_three_values(1, 2, 3) == 1\n",
    "assert min_of_three_values(1, 1, 9) == 1\n",
    "assert min_of_three_values(18, 7, 11) == 7\n",
    "assert min_of_three_values(2, 10, 10) == 2\n",
    "assert min_of_three_values(17, 14, 17) == 14\n",
    "assert min_of_three_values(9, 2, 10) == 2\n",
    "assert min_of_three_values(7, 4, 7) == 4\n",
    "assert min_of_three_values(0, 8, 3) == 0\n",
    "assert min_of_three_values(8, 10, 6) == 6\n",
    "assert min_of_three_values(1, 4, 8) == 1"
   ]
  },
  {
   "cell_type": "code",
   "execution_count": 5,
   "metadata": {},
   "outputs": [],
   "source": [
    "def remove_symbol(string, symbol):\n",
    "    \"\"\"\n",
    "    Удаляет все вхождения символа из строки с использованием метода .replace().\n",
    "    \"\"\"\n",
    "    return string.replace(symbol, '')\n",
    "\n",
    "# Проверка корректности функции с использованием assert\n",
    "assert remove_symbol('aaaaaaaa', 'a') == ''\n",
    "assert remove_symbol('abababa', 'b') == 'aaaa'\n",
    "assert remove_symbol('12341234', '3') == '124124'"
   ]
  },
  {
   "cell_type": "code",
   "execution_count": 6,
   "metadata": {},
   "outputs": [],
   "source": [
    "def remove_each_third_sym(string):\n",
    "    \"\"\"\n",
    "    Удаляет каждый третий символ из строки.\n",
    "    \"\"\"\n",
    "    result = []\n",
    "    for i in range(len(string)):\n",
    "        # Индексация i + 1 для перехода от нулевой к человеческой\n",
    "        if (i + 1) % 3 != 0:\n",
    "            result.append(string[i])\n",
    "    return ''.join(result)\n",
    "\n",
    "# Проверка корректности функции с использованием assert\n",
    "assert remove_each_third_sym('abcdef') == 'abde'\n",
    "assert remove_each_third_sym('sdfasdfasdfsfa') == 'sdasfadffa'\n",
    "assert remove_each_third_sym('123456789') == '124578'\n",
    "assert remove_each_third_sym('987654321') == '986532'"
   ]
  },
  {
   "cell_type": "code",
   "execution_count": 7,
   "metadata": {},
   "outputs": [],
   "source": [
    "def find_max(lst):\n",
    "    \"\"\"\n",
    "    Возвращает максимальный элемент и его индекс в списке.\n",
    "    \"\"\"\n",
    "    max_value = lst[0]\n",
    "    max_index = 0\n",
    "    for index, value in enumerate(lst):\n",
    "        if value > max_value:\n",
    "            max_value = value\n",
    "            max_index = index\n",
    "    return max_value, max_index\n",
    "\n",
    "# Проверка корректности функции с использованием assert\n",
    "assert find_max([1, 2, 3, 4, 5]) == (5, 4)\n",
    "assert find_max([5, 4, 3, 2, 1]) == (5, 0)\n",
    "assert find_max([96, 82, 72, 48, 93, 88, 79]) == (96, 0)\n",
    "assert find_max([49, 75, 65, 65, 65, 18]) == (75, 1)\n",
    "assert find_max([69, 16, 64, 54, 36, 70, 89, 29]) == (89, 6)\n",
    "assert find_max([17, 80, 27, 36, 21, 85, 63, 27]) == (85, 5)\n",
    "assert find_max([76, 27, 73, 65, 52]) == (76, 0)\n",
    "assert find_max([33, 26, 69, 40, 93]) == (93, 4)\n",
    "assert find_max([87, 5, 95, 52, 21, 76, 22]) == (95, 2)\n",
    "assert find_max([75, 18, 89, 99, 70]) == (99, 3)"
   ]
  },
  {
   "cell_type": "code",
   "execution_count": 8,
   "metadata": {},
   "outputs": [],
   "source": [
    "def append_to_list(lst, value):\n",
    "    \"\"\"\n",
    "    Добавляет значение в конец списка и возвращает обновленный список.\n",
    "    \"\"\"\n",
    "    lst.append(value)\n",
    "    return lst\n",
    "\n",
    "# Проверка корректности функции с использованием assert\n",
    "assert append_to_list([1, 2], 3) == [1, 2, 3]\n",
    "assert append_to_list([1, 2], None) == [1, 2, None]\n",
    "assert append_to_list([1, 's'], True) == [1, 's', True]\n"
   ]
  },
  {
   "cell_type": "code",
   "execution_count": 9,
   "metadata": {},
   "outputs": [],
   "source": [
    "def number_unique_elements(lst):\n",
    "    \"\"\"\n",
    "    Возвращает количество уникальных элементов в списке.\n",
    "    \"\"\"\n",
    "    return len(set(lst))\n",
    "\n",
    "# Проверка корректности функции с использованием assert\n",
    "assert number_unique_elements([1, 2, 3]) == 3\n",
    "assert number_unique_elements([1, 2, 1]) == 2\n",
    "assert number_unique_elements([1, 1, 1, 1]) == 1\n",
    "assert number_unique_elements([1, 2, 1, 2]) == 2\n"
   ]
  }
 ],
 "metadata": {
  "kernelspec": {
   "display_name": "Python 3",
   "language": "python",
   "name": "python3"
  },
  "language_info": {
   "codemirror_mode": {
    "name": "ipython",
    "version": 3
   },
   "file_extension": ".py",
   "mimetype": "text/x-python",
   "name": "python",
   "nbconvert_exporter": "python",
   "pygments_lexer": "ipython3",
   "version": "3.12.3"
  }
 },
 "nbformat": 4,
 "nbformat_minor": 2
}
