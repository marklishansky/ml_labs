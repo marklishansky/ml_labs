{
 "cells": [
  {
   "cell_type": "code",
   "execution_count": 1,
   "metadata": {},
   "outputs": [],
   "source": [
    "def difference_of_two_numbers(first, second):\n",
    "    \"\"\"Возвращает разницу между первым и вторым аргументом\"\"\"\n",
    "    return first - second\n",
    "\n",
    "assert difference_of_two_numbers(2, 1) == 1\n",
    "assert difference_of_two_numbers(4, 1) == 3\n",
    "assert difference_of_two_numbers(10, 0) == 10\n",
    "assert difference_of_two_numbers(-5, -6) == 1"
   ]
  },
  {
   "cell_type": "code",
   "execution_count": 2,
   "metadata": {},
   "outputs": [],
   "source": [
    "def condition_function(input_number):\n",
    "    \"\"\"\n",
    "    Если входное число меньше либо равно 0, то умножить его на 2.\n",
    "    В противном случае, если число больше 0, но меньше или равно 10, умножить на 3.\n",
    "    Во всех прочих случаях поделить на 10.\n",
    "    \"\"\"\n",
    "    if input_number <= 0:\n",
    "        return input_number * 2\n",
    "    elif input_number <= 10:\n",
    "        return input_number * 3\n",
    "    else:\n",
    "        return input_number / 10\n",
    "\n",
    "assert condition_function(0) == 0\n",
    "assert condition_function(-1) == -2\n",
    "assert condition_function(1) == 3\n",
    "assert condition_function(10) == 30\n",
    "assert condition_function(11) == 1.1\n",
    "assert condition_function(20) == 2"
   ]
  },
  {
   "cell_type": "code",
   "execution_count": 3,
   "metadata": {},
   "outputs": [],
   "source": [
    "def calculator(number_1, operation, number_2):\n",
    "    \"\"\"\n",
    "    Простой оператор, способный выполнять операции +, -, *, /.\n",
    "    На входе первое число, операция в виде строки и второе число.\n",
    "    \n",
    "    Пример: \n",
    "    >>> calculator(1, \"+\", 1)\n",
    "    >>> 2\n",
    "    \"\"\"\n",
    "    if operation == \"+\":\n",
    "        return number_1 + number_2\n",
    "    elif operation == \"-\":\n",
    "        return number_1 - number_2\n",
    "    elif operation == \"*\":\n",
    "        return number_1 * number_2\n",
    "    elif operation == \"/\":\n",
    "        return number_1 / number_2\n",
    "    else:\n",
    "        raise ValueError(\"Недопустимая операция\")\n",
    "\n",
    "assert calculator(1, \"+\", 2) == 3\n",
    "assert calculator(3, \"-\", 1) == 2\n",
    "assert calculator(4, \"*\", 3) == 12\n",
    "assert calculator(2, \"/\", 2) == 1"
   ]
  },
  {
   "cell_type": "code",
   "execution_count": 4,
   "metadata": {},
   "outputs": [],
   "source": [
    "def number_of_unique_elements(input_list):\n",
    "    \"\"\"\n",
    "    Считает количество уникальных элементов в листе.\n",
    "    \"\"\"\n",
    "    return len(set(input_list))\n",
    "\n",
    "assert number_of_unique_elements([1, 2, 3]) == 3\n",
    "assert number_of_unique_elements([1] * 93) == 1\n",
    "assert number_of_unique_elements(list(range(1000))) == 1000"
   ]
  },
  {
   "cell_type": "code",
   "execution_count": 5,
   "metadata": {},
   "outputs": [],
   "source": [
    "def counter(input_list):\n",
    "    \"\"\"\n",
    "    Считает количество вхождений каждого из элементов листа.\n",
    "    Возвращает словарь вида {число: количество вхождений}\n",
    "    \n",
    "    Замечание (!): встроенным в collections Counter'ом пользоваться нельзя\n",
    "    \n",
    "    Например:\n",
    "    counter([1, 1, 2, 3]) вернет {1: 2, 2: 1, 3: 1}\n",
    "    \"\"\"\n",
    "    count_dict = {}\n",
    "    for item in input_list:\n",
    "        if item in count_dict:\n",
    "            count_dict[item] += 1\n",
    "        else:\n",
    "            count_dict[item] = 1\n",
    "    return count_dict\n",
    "\n",
    "assert counter([1, 1, 1, 2, 3]) == {1: 3, 2: 1, 3: 1}\n",
    "assert counter([1] * 1000) == {1: 1000}\n",
    "assert counter([1, 3, 5] * 100) == {1: 100, 3: 100, 5: 100}"
   ]
  },
  {
   "cell_type": "code",
   "execution_count": 6,
   "metadata": {},
   "outputs": [],
   "source": [
    "def multiply_nums(input_string):\n",
    "    \"\"\"\n",
    "    Перемножить числа, переданные в строке, перечисленные через запятую.\n",
    "    \n",
    "    hint: можно использовать метод .split()\n",
    "    \"\"\"\n",
    "    numbers = input_string.split(', ')\n",
    "    result = 1\n",
    "    for number in numbers:\n",
    "        result *= int(number)\n",
    "    return result\n",
    "\n",
    "assert multiply_nums(\"2, 3\") == 6\n",
    "assert multiply_nums(\"1, 1, 1, 1, 1, 1, 1\") == 1\n",
    "assert multiply_nums(\"345, 4576, 794, 325, 0\") == 0"
   ]
  },
  {
   "cell_type": "code",
   "execution_count": 7,
   "metadata": {},
   "outputs": [],
   "source": [
    "import math\n",
    "\n",
    "def custom_function(x):\n",
    "    \"\"\"\n",
    "    Реализуйте функцию, которая вычисляет y = sin(x) * cos(x).\n",
    "    \"\"\"\n",
    "    return math.sin(x) * math.cos(x)\n",
    "\n",
    "# Проверка корректности функции с использованием assert\n",
    "assert round(custom_function(1), 3) == 0.455\n",
    "assert round(custom_function(1.5), 3) == 0.071\n",
    "assert round(custom_function(2), 3) == -0.378\n",
    "assert custom_function(0) == 0"
   ]
  },
  {
   "cell_type": "code",
   "execution_count": 11,
   "metadata": {},
   "outputs": [],
   "source": [
    "import math\n",
    "\n",
    "def custom_function_1(x, n):\n",
    "    \"\"\"\n",
    "    Реализует функцию\n",
    "    \"\"\"\n",
    "    result = 1\n",
    "    for i in range(1, n + 1):\n",
    "        term = ((i + 2)**x + math.log(x)) / (x**2 + 4 * i)\n",
    "        result *= term\n",
    "    return result\n",
    "\n",
    "# Проверка корректности функции с использованием assert\n",
    "assert round(custom_function_1(2, 3), 3) == 2.707\n",
    "assert round(custom_function_1(3, 2), 3) == 8.277\n",
    "assert round(custom_function_1(3, 3), 3) == 49.7\n"
   ]
  }
 ],
 "metadata": {
  "kernelspec": {
   "display_name": "Python 3",
   "language": "python",
   "name": "python3"
  },
  "language_info": {
   "codemirror_mode": {
    "name": "ipython",
    "version": 3
   },
   "file_extension": ".py",
   "mimetype": "text/x-python",
   "name": "python",
   "nbconvert_exporter": "python",
   "pygments_lexer": "ipython3",
   "version": "3.12.3"
  }
 },
 "nbformat": 4,
 "nbformat_minor": 2
}
