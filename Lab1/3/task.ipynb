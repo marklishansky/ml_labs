{
 "cells": [
  {
   "cell_type": "code",
   "execution_count": 1,
   "metadata": {},
   "outputs": [],
   "source": [
    "class Vehicle:\n",
    "    def __init__(self, max_speed, mileage):\n",
    "        self.max_speed = max_speed\n",
    "        self.mileage = mileage\n",
    "\n",
    "# Проверка корректности реализации\n",
    "veh1 = Vehicle(100, 50)\n",
    "assert (veh1.max_speed, veh1.mileage) == (100, 50)\n",
    "\n",
    "veh2 = Vehicle(200, 3)\n",
    "assert (veh2.max_speed, veh2.mileage) == (200, 3)"
   ]
  },
  {
   "cell_type": "code",
   "execution_count": 2,
   "metadata": {},
   "outputs": [],
   "source": [
    "class Truck(Vehicle):  # Указываем Vehicle как родительский класс\n",
    "    def __init__(self, max_speed, mileage):\n",
    "        # Вызываем конструктор родительского класса с помощью super()\n",
    "        super().__init__(max_speed, mileage)\n",
    "\n",
    "# Проверка корректности реализации\n",
    "truck1 = Truck(50, 1000)\n",
    "assert (truck1.max_speed, truck1.mileage) == (50, 1000)\n",
    "\n",
    "truck2 = Truck(43, 235)\n",
    "assert (truck2.max_speed, truck2.mileage) == (43, 235)\n"
   ]
  },
  {
   "cell_type": "code",
   "execution_count": 3,
   "metadata": {},
   "outputs": [],
   "source": [
    "class MyList:\n",
    "    def __init__(self, lst):\n",
    "        # Инициализация экземпляра с переданным списком\n",
    "        self.lst = lst\n",
    "    \n",
    "    def return_sum(self):\n",
    "        \"\"\"\n",
    "        Возвращает сумму всех элементов сохраненного списка.\n",
    "        \"\"\"\n",
    "        total = 0\n",
    "        for element in self.lst:\n",
    "            total += element\n",
    "        return total\n",
    "    \n",
    "    def make_reverse(self):\n",
    "        \"\"\"\n",
    "        Разворачивает сохраненный список и возвращает его.\n",
    "        \"\"\"\n",
    "        return self.lst[::-1]\n",
    "    \n",
    "    def make_slice(self, start, stop):\n",
    "        \"\"\"\n",
    "        Возвращает срез сохраненного списка.\n",
    "        \"\"\"\n",
    "        return self.lst[start:stop]\n",
    "\n",
    "# Проверка корректности реализации с использованием assert\n",
    "a = MyList([1, 2, 3, 4])\n",
    "assert a.return_sum() == 10\n",
    "assert a.make_reverse() == [4, 3, 2, 1]\n",
    "assert a.make_slice(0, 2) == [1, 2]\n",
    "\n",
    "b = MyList([5, 6, 6, 5])\n",
    "assert b.return_sum() == 22\n",
    "assert b.make_reverse() == [5, 6, 6, 5]\n",
    "assert b.make_slice(1, 2) == [6]"
   ]
  }
 ],
 "metadata": {
  "kernelspec": {
   "display_name": "Python 3",
   "language": "python",
   "name": "python3"
  },
  "language_info": {
   "codemirror_mode": {
    "name": "ipython",
    "version": 3
   },
   "file_extension": ".py",
   "mimetype": "text/x-python",
   "name": "python",
   "nbconvert_exporter": "python",
   "pygments_lexer": "ipython3",
   "version": "3.12.3"
  }
 },
 "nbformat": 4,
 "nbformat_minor": 2
}
