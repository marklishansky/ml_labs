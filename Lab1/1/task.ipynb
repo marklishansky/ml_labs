{
 "cells": [
  {
   "cell_type": "code",
   "execution_count": 1,
   "metadata": {},
   "outputs": [],
   "source": [
    "int_variable = 10  # int\n",
    "assert isinstance(int_variable, int)\n",
    "\n",
    "float_variable = 10.1  # float\n",
    "assert isinstance(float_variable, float)\n",
    "\n",
    "string_variable = \"kkk\"  # string\n",
    "assert isinstance(string_variable, str)\n",
    "\n",
    "bool_variable = True  # bool\n",
    "assert isinstance(bool_variable, bool)"
   ]
  },
  {
   "cell_type": "code",
   "execution_count": 2,
   "metadata": {},
   "outputs": [],
   "source": [
    "list_variable = [1, 2, 3]  # list\n",
    "assert isinstance(list_variable, list)\n",
    "\n",
    "tuple_variable = (1, 2, 3)  # tuple\n",
    "assert isinstance(tuple_variable, tuple)\n",
    "\n",
    "set_variable = {1, 2, 3}  # set\n",
    "assert isinstance(set_variable, set)\n",
    "\n",
    "dict_variable = {'a': 1, 'b': 2}  # dict\n",
    "assert isinstance(dict_variable, dict)"
   ]
  },
  {
   "cell_type": "code",
   "execution_count": null,
   "metadata": {},
   "outputs": [],
   "source": []
  }
 ],
 "metadata": {
  "kernelspec": {
   "display_name": "Python 3",
   "language": "python",
   "name": "python3"
  },
  "language_info": {
   "codemirror_mode": {
    "name": "ipython",
    "version": 3
   },
   "file_extension": ".py",
   "mimetype": "text/x-python",
   "name": "python",
   "nbconvert_exporter": "python",
   "pygments_lexer": "ipython3",
   "version": "3.12.3"
  }
 },
 "nbformat": 4,
 "nbformat_minor": 2
}
